{
 "cells": [
  {
   "cell_type": "markdown",
   "metadata": {},
   "source": [
    "## Introduction\n",
    "\n",
    "Social media has become a ubiquitous part of modern life, with platforms such as Instagram, Twitter, and Facebook serving as essential communication channels. Social media data sets are vast and complex, making analysis a challenging task for businesses and researchers alike. In this project, we explore a simulated social media, for example Tweets, data set to understand trends in likes across different categories.\n",
    "\n",
    "## Prerequisites\n",
    "\n",
    "To follow along with this project, you should have a basic understanding of Python programming and data analysis concepts. In addition, you may want to use the following packages in your Python environment:\n",
    "\n",
    "- pandas\n",
    "- Matplotlib\n",
    "- ...\n",
    "\n",
    "These packages should already be installed in Coursera's Jupyter Notebook environment, however if you'd like to install additional packages that are not included in this environment or are working off platform you can install additional packages using `!pip install packagename` within a notebook cell such as:\n",
    "\n",
    "- `!pip install pandas`\n",
    "- `!pip install matplotlib`\n",
    "\n",
    "## Project Scope\n",
    "\n",
    "The objective of this project is to analyze tweets (or other social media data) and gain insights into user engagement. We will explore the data set using visualization techniques to understand the distribution of likes across different categories. Finally, we will analyze the data to draw conclusions about the most popular categories and the overall engagement on the platform.\n",
    "\n",
    "## Step 1: Importing Required Libraries\n",
    "\n",
    "As the name suggests, the first step is to import all the necessary libraries that will be used in the project. In this case, we need pandas, numpy, matplotlib, seaborn, and random libraries.\n",
    "\n",
    "Pandas is a library used for data manipulation and analysis. Numpy is a library used for numerical computations. Matplotlib is a library used for data visualization. Seaborn is a library used for statistical data visualization. Random is a library used to generate random numbers."
   ]
  },
  {
   "cell_type": "code",
   "execution_count": 23,
   "metadata": {},
   "outputs": [
    {
     "name": "stdout",
     "output_type": "stream",
     "text": [
      "        Date Category  Likes\n",
      "0 2021-01-01  Culture   9885\n",
      "1 2021-01-02   Travel   4239\n",
      "2 2021-01-03     Food   4055\n",
      "3 2021-01-04    Music   6307\n",
      "4 2021-01-05  Culture   9508\n",
      "<class 'pandas.core.frame.DataFrame'>\n",
      "RangeIndex: 500 entries, 0 to 499\n",
      "Data columns (total 3 columns):\n",
      " #   Column    Non-Null Count  Dtype         \n",
      "---  ------    --------------  -----         \n",
      " 0   Date      500 non-null    datetime64[ns]\n",
      " 1   Category  500 non-null    object        \n",
      " 2   Likes     500 non-null    int64         \n",
      "dtypes: datetime64[ns](1), int64(1), object(1)\n",
      "memory usage: 11.8+ KB\n",
      "None\n",
      "             Likes\n",
      "count   500.000000\n",
      "mean   5148.932000\n",
      "std    2835.525866\n",
      "min      18.000000\n",
      "25%    2767.500000\n",
      "50%    5169.500000\n",
      "75%    7499.250000\n",
      "max    9986.000000\n",
      "Culture    72\n",
      "Food       63\n",
      "Music      63\n",
      "Fitness    63\n",
      "Fashion    62\n",
      "Health     60\n",
      "Travel     59\n",
      "Family     58\n",
      "Name: Category, dtype: int64\n"
     ]
    },
    {
     "data": {
      "image/png": "[encoded data removed]",
      "text/plain": [
       "<Figure size 432x288 with 1 Axes>"
      ]
     },
     "metadata": {
      "needs_background": "light"
     },
     "output_type": "display_data"
    },
    {
     "data": {
      "image/png": "[encoded data removed]",
      "text/plain": [
       "<Figure size 432x288 with 1 Axes>"
      ]
     },
     "metadata": {
      "needs_background": "light"
     },
     "output_type": "display_data"
    },
    {
     "name": "stdout",
     "output_type": "stream",
     "text": [
      "Mean of Likes: 5148.932\n",
      "Category\n",
      "Culture    5370.722222\n",
      "Family     4446.224138\n",
      "Fashion    5449.354839\n",
      "Fitness    5364.857143\n",
      "Food       5247.380952\n",
      "Health     4651.866667\n",
      "Music      5023.380952\n",
      "Travel     5557.237288\n",
      "Name: Likes, dtype: float64\n"
     ]
    }
   ],
   "source": [
    "import pandas as pd\n",
    "import numpy as np\n",
    "import matplotlib.pyplot as plt\n",
    "import seaborn as sns\n",
    "import random\n",
    "\n",
    "# Task 1: Import required libraries\n",
    "# Already imported above\n",
    "\n",
    "# Task 2: Generate random data for the social media data\n",
    "categories = ['Food', 'Travel', 'Fashion', 'Fitness', 'Music', 'Culture', 'Family', 'Health']\n",
    "n = 500\n",
    "data = {\n",
    "    'Date': pd.date_range('2021-01-01', periods=n),\n",
    "    'Category': [random.choice(categories) for _ in range(n)],\n",
    "    'Likes': np.random.randint(0, 10000, size=n)\n",
    "}\n",
    "\n",
    "# Task 3: Load the data into a Pandas DataFrame and Explore the data\n",
    "df = pd.DataFrame(data)\n",
    "\n",
    "# Displaying the first 5 rows of the DataFrame\n",
    "print(df.head())\n",
    "\n",
    "# Displaying information about the DataFrame\n",
    "print(df.info())\n",
    "\n",
    "# Displaying descriptive statistics of the DataFrame\n",
    "print(df.describe())\n",
    "\n",
    "# Printing the count of each ‘Category’ element\n",
    "print(df['Category'].value_counts())\n",
    "\n",
    "# Task 4: Clean the data\n",
    "# Removing null data\n",
    "df.dropna(inplace=True)\n",
    "\n",
    "# Removing duplicate data\n",
    "df.drop_duplicates(inplace=True)\n",
    "\n",
    "# Converting the ‘Date’ field to datetime format\n",
    "df['Date'] = pd.to_datetime(df['Date'])\n",
    "\n",
    "# Converting the ‘Likes’ data to an integer\n",
    "df['Likes'] = df['Likes'].astype(int)\n",
    "\n",
    "# Task 5: Visualize and Analyze the data\n",
    "\n",
    "# Histogram of Likes using displot (compatible with older and newer versions of seaborn)\n",
    "sns.distplot(df['Likes'], kde=False, bins=30)\n",
    "plt.xlabel('Likes')\n",
    "plt.ylabel('Frequency')\n",
    "plt.title('Histogram of Likes')\n",
    "plt.show()\n",
    "\n",
    "# Boxplot of Category vs. Likes\n",
    "sns.boxplot(x='Category', y='Likes', data=df)\n",
    "plt.xlabel('Category')\n",
    "plt.ylabel('Likes')\n",
    "plt.title('Boxplot of Likes by Category')\n",
    "plt.show()\n",
    "\n",
    "# Mean of the ‘Likes’ category\n",
    "print(\"Mean of Likes:\", df['Likes'].mean())\n",
    "\n",
    "# Mean of each Category’s ‘Likes’ using the groupby method\n",
    "print(df.groupby('Category')['Likes'].mean())\n"
   ]
  },
  {
   "cell_type": "code",
   "execution_count": null,
   "metadata": {},
   "outputs": [],
   "source": []
  }
 ],
 "metadata": {
  "kernelspec": {
   "display_name": "Python 3",
   "language": "python",
   "name": "python3"
  },
  "language_info": {
   "codemirror_mode": {
    "name": "ipython",
    "version": 3
   },
   "file_extension": ".py",
   "mimetype": "text/x-python",
   "name": "python",
   "nbconvert_exporter": "python",
   "pygments_lexer": "ipython3",
   "version": "3.7.6"
  }
 },
 "nbformat": 4,
 "nbformat_minor": 4
}
